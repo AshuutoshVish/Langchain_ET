{
 "cells": [
  {
   "cell_type": "code",
   "execution_count": 3,
   "id": "e757da96-a3f9-47fe-8baf-d1a0be51e9c9",
   "metadata": {},
   "outputs": [
    {
     "name": "stdout",
     "output_type": "stream",
     "text": [
      "Why did the friend bring a ladder to the party?\n",
      "\n",
      "Because he heard the drinks were on the roof!\n"
     ]
    }
   ],
   "source": [
    "from dotenv import load_dotenv\n",
    "load_dotenv()\n",
    "\n",
    "from langchain_google_genai import ChatGoogleGenerativeAI\n",
    "from langchain.prompts import PromptTemplate\n",
    "from langchain.chains import LLMChain\n",
    "\n",
    "llm = ChatGoogleGenerativeAI(model=\"gemini-1.5-flash\", temperature=0.7)\n",
    "\n",
    "prompt_temp = PromptTemplate(\n",
    "    input_variables=[\"topic\"],\n",
    "    template=\"Create funny joke based on the following: {topic}\"\n",
    ")\n",
    "\n",
    "chain = LLMChain(llm=llm, prompt=prompt_temp)\n",
    "\n",
    "response = chain.invoke({\"topic\": \"friend\"})\n",
    "print(response[\"text\"])\n"
   ]
  },
  {
   "cell_type": "code",
   "execution_count": 4,
   "id": "baea5637",
   "metadata": {},
   "outputs": [
    {
     "name": "stdout",
     "output_type": "stream",
     "text": [
      "Why do Python programmers prefer dark mode?\n",
      "\n",
      "Because light attracts bugs!\n"
     ]
    }
   ],
   "source": [
    "response = chain.invoke({\"topic\": \"Python\"})\n",
    "print(response[\"text\"])"
   ]
  }
 ],
 "metadata": {
  "kernelspec": {
   "display_name": "venv",
   "language": "python",
   "name": "python3"
  },
  "language_info": {
   "codemirror_mode": {
    "name": "ipython",
    "version": 3
   },
   "file_extension": ".py",
   "mimetype": "text/x-python",
   "name": "python",
   "nbconvert_exporter": "python",
   "pygments_lexer": "ipython3",
   "version": "3.12.0"
  }
 },
 "nbformat": 4,
 "nbformat_minor": 5
}

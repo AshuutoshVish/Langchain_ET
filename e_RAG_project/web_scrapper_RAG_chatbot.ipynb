{
 "cells": [
  {
   "cell_type": "code",
   "execution_count": 45,
   "id": "995fff48",
   "metadata": {},
   "outputs": [],
   "source": [
    "import os\n",
    "from dotenv import load_dotenv\n",
    "from langchain.chains import RetrievalQA\n",
    "from langchain_google_genai import GoogleGenerativeAIEmbeddings, ChatGoogleGenerativeAI\n",
    "from langchain_community.document_loaders import WebBaseLoader\n",
    "from langchain.text_splitter import RecursiveCharacterTextSplitter\n",
    "from langchain.vectorstores import Chroma"
   ]
  },
  {
   "cell_type": "code",
   "execution_count": 46,
   "id": "21ba0fa3",
   "metadata": {},
   "outputs": [],
   "source": [
    "load_dotenv()\n",
    "os.environ[\"GOOGLE_API_KEY\"] = os.getenv(\"GOOGLE_API_KEY\")"
   ]
  },
  {
   "cell_type": "code",
   "execution_count": 47,
   "id": "aeac9a26",
   "metadata": {},
   "outputs": [],
   "source": [
    "#Load documents\n",
    "loader = WebBaseLoader([\"https://excellencetechnologies.in/\"])\n",
    "docs = loader.load()"
   ]
  },
  {
   "cell_type": "code",
   "execution_count": 48,
   "id": "5ba83f94",
   "metadata": {},
   "outputs": [
    {
     "data": {
      "text/plain": [
       "[Document(metadata={'source': 'https://excellencetechnologies.in/', 'title': 'Best Mobile And Web Application Development Company | Ecommerce Website Development Solutions | Excellence Technologies', 'description': 'Excellence Technologies is one of the Best E-Commerce websites and Mobile App development companies across the world focusing on iPhone & Android applications. We also offer Custom Website Design and Development services for web applications with Software Solutions across the globe.', 'language': 'en'}, page_content=\"\\n\\n\\n\\n\\n\\n\\n\\nBest Mobile And Web Application Development Company | Ecommerce Website Development Solutions | Excellence Technologies\\n\\n\\n\\n\\n\\n\\n\\n\\n\\n\\n\\n\\n\\n\\n\\n\\n\\n\\n\\n\\n\\n\\n\\n\\n\\n\\n\\n\\n\\n\\n\\n   \\n\\n\\n\\n\\n\\n\\n\\n\\n\\n\\nHome\\n\\n\\n\\n\\nAbout\\n\\n\\n\\n\\nServices\\n\\n\\n\\n\\nCareer\\n\\n\\n\\n\\nPortfolio\\n\\n\\n\\n\\nBlog\\n\\n\\n\\n\\nContact\\n\\n\\n\\n\\n\\n\\n\\n\\n\\n\\n\\n\\n\\n\\n\\n\\n\\n        Your browser does not support HTML5 video.\\n    \\n\\n\\n        PROVIDING MODERNISTIC SOFTWARE SOLUTIONS FOR YOUR BUSINESS NEEDS\\n    \\n\\n\\n\\n Work With Us \\n\\n\\n\\n\\n\\n\\n\\n\\n    WE'VE WORKED WITH\\n  \\n\\n\\n      As an interdisciplinary company, we’ve worked with:\\n    \\n\\n\\n\\nSMALL BUSINESS’S\\n\\n\\nBLOOMING STARTUPS \\n\\n\\nBIG CORPORATE ENTERPRISES\\n\\n\\n\\n\\nBy offering them cutting edge IT solutions to optimize their\\n            business processes and enhancing their online presence enabling them\\n            to increase their revenues whilst aligning with their business\\n            goals.\\n\\n\\nBy providing quick turnaround using latest tech stack and helping\\n            startups market their ideas fast.\\n\\n\\n\\n            By creating robust solutions and strategies that are uniquely\\n            tailored to spur growth while helping them reach their full\\n            potential.\\n\\n\\n\\n\\n\\n\\n\\n\\n\\n\\nOUR CORE SERVICES\\n\\n\\n            We’ve developed skills and know-how in different fields of expertise. Our team of trained professional\\n            developers and technologists work towards creating customized solutions\\n            as per your business needs.\\n        \\n\\n\\n\\n\\n\\n\\n\\n\\n\\n\\n\\n\\n\\n                            Web Application\\n                        \\n\\nWe develop modern web apps using the latest technologies like react.js, vue.js, angular and other solutions to provide blazing fast and a modern experience. Whether you are looking for PWA, SPA, or SSR apps we have done it all.\\n\\n\\n\\n\\n\\n\\n\\n\\n\\n\\n\\n\\n\\n                            Mobile Apps\\n                        \\n\\nWe deliver modern app using cutting edge technologies like react native, expo, ionic, flutter.\\nWe strongly believe in the importance of delivering multi-platform mobile app solutions for android/ios/windows and still able to provide quick turn around and retain native app experience.\\n\\n\\n\\n\\n\\n\\n\\n\\n\\n\\n\\n\\n\\n                            eCommerce\\n                        \\n\\nLooking to quickly run your business online on a budget or to set up a full-service eCommerce store for your customers. We work with industry-leading solutions like Magento, Shopify, WooCommerce to get your store up and running.\\n\\n\\n\\n\\n\\n\\n\\n\\n\\n\\n\\n\\n\\n                            Back-End & Database\\n                        \\n\\nWe work on backend technologies like node.js, python, PHP to serve backend services for your web/mobile apps.\\nWe set up security, scalable database services using MongoDB, MySQL, PostgreSQL and many other DB solutions\\n\\n\\n\\n\\n\\n\\n\\n\\n\\n\\n\\n\\n\\n                            Cloud Infra and Dev Ops\\n                        \\n\\nWe deploy your apps on cloud infrastructure like AWS, GCP, Azure and work with scalable services like firebase, lambda, microservices and many other cloud services to provide a highly scalable, secure and future proof deployment for your apps \\n\\n\\n\\n\\n\\n\\n\\n\\n\\n\\n\\n\\n\\nREACT NATIVE\\n\\n\\n\\n\\n\\nIONIC\\n\\n\\n\\n\\n\\nFLUTTER\\n\\n\\n\\n\\n\\nEXPO\\n\\n\\n\\n\\n\\nREACT JS\\n\\n\\n\\n\\n\\nANGULAR\\n\\n\\n\\n\\n\\nVUE JS\\n\\n\\n\\n\\n\\nNODE JS\\n\\n\\n\\n\\n\\nWOOCOMMERCE\\n\\n\\n\\n\\n\\nSHOPIFY\\n\\n\\n\\n\\n\\nMAGENTO\\n\\n\\n\\n\\n\\nPYTHON\\n\\n\\n\\n\\n\\nAWS\\n\\n\\n\\n\\n\\nGCP\\n\\n\\n\\n\\n\\nAZURE\\n\\n\\n\\n\\n\\nDOCKER\\n\\n\\n\\n OUR SERVICES ARE DRIVEN BY AMAZING TECHNOLOGIES \\nTechnologies we work\\n                 on regular basis\\n\\n                We are not fanatical about a single solution. We pride ourselves on finding the best fit for our client’s needs. \\n                \\n                As tech world is changing very fast, we keep adding the latest tech to our stack\\n                \\n                Among the tools at our disposal are technologies such as React.JS, Vue.JS, Angular, React Native. Expo, Ionic, Flutter, Nodejs, MongoDB, Firebase\\n                \\n                We also work with CMS solutions like Magento, Shopify, WooCommerce, Wordpress, Strap.io, KeyStone.JS to provide readymade solutions \\n                \\n                While adapting new tech stack, we also retain the stable platforms like PHP, Python and work on frameworks like Django, Laravel to maintain/upgrade systems\\n            \\n\\n\\n\\n\\n\\n\\n\\nWHAT ARE THEY SAYING\\n\\n\\n        Making our client’s happiness isn’t just about building beautiful websites. It’s about building a relationship,\\n        \\n        earning trust and growing together\\n    \\n\\n\\n\\n\\n\\n\\n\\n\\n\\n\\nAlexis Manach\\nhttps://www.zarpo.com.br\\nThe application built by Excellence Technologies has expanded the user base to 5 million and successfully provides all desired features. The team is knowledgable and make themselves available around the clock to solve issues as they arise so that development can continue.\\n\\n\\nMartin Romanuk\\nhttps://nubity.com\\nGreat React developers, they helped us to go forward with all of our requirements. Highly recommendable.\\n\\n\\nKristian Poulstrup\\nhttps://billetto.com\\nExcellence did an excellent job on my project. The tasks were completed on time and to specification. Communication was good and the developers were always positive. 10/10 would recommend it.\\n\\n\\n\\n\\n\\n\\n\\n\\n\\n\\n\\n\\n\\n\\n\\n\\n\\n\\n\\n\\n\\n\\n\\n\\n\\n\\n\\n\\nPlease, provide us with as much detailed information as possible\\n        \\n\\n\\n\\n\\n\\n\\n\\n\\n\\n\\n\\n\\n\\n\\n\\n\\n\\n\\n\\n\\n\\nSUBMIT\\n\\n\\n\\n\\n\\nTHINK WE’D BE A MATCH?\\nLET’S CONNECT\\nEmail\\n[email\\xa0protected]\\n\\nAddress\\nC86 B,Sector 8,Noida (Uttar Pradesh)\\nPhone\\n+91 01204278603\\nSkype\\nsales@excellencetechnologies\\n\\n\\n\\n\\n\\n\\n\\n\\nALWAYS STAY IN THE LOOP\\n\\n\\n\\n\\n\\n\\n\\n\\n\\n\\n\\n\\n\\n\\n\\n© 2020 - Excellence Technologies Pvt. Ltd. All Rights Reserved\\n\\n\\n\\n\\nQUICK LINKS\\n\\n\\n\\n\\nHome\\n\\n\\n\\n\\nAbout\\n\\n\\n\\n\\nServices\\n\\n\\n\\n\\nCareer\\n\\n\\n\\n\\nPortfolio\\n\\n\\n\\n\\nContact\\n\\n\\n\\n\\n\\n\\nSERVICES\\n\\n\\n\\n\\nWeb Application Development\\n\\n\\n\\n\\nMobile Application Development\\n\\n\\n\\n\\neCommerce Store Setup\\n\\n\\n\\n\\nBackend and Database\\n\\n\\n\\n\\nCloud Deployments & Devops\\n\\n\\n\\n\\n\\n\\nTECHNOLOGIES\\n\\n\\n\\n\\n\\n\\nMagento\\n\\n\\n\\n\\nReactJS\\n\\n\\n\\n\\nReact Native\\n\\n\\n\\n\\nVueJS\\n\\n\\n\\n\\nAngularJS\\n\\n\\n\\n\\nAndroid App\\n\\n\\n\\n\\nMongoDB\\n\\n\\n\\n\\n\\n\\n\\n\\nExpress\\n\\n\\n\\n\\nAPI Development\\n\\n\\n\\n\\nShopify\\n\\n\\n\\n\\nLaravel\\n\\n\\n\\n\\nFlask\\n\\n\\n\\n\\nDjango\\n\\n\\n\\n\\nNodeJS\\n\\n\\n\\n\\n\\n\\n\\n\\n\\n\\n\\n\\n\\n\\n\\n\\n\")]"
      ]
     },
     "execution_count": 48,
     "metadata": {},
     "output_type": "execute_result"
    }
   ],
   "source": [
    "docs"
   ]
  },
  {
   "cell_type": "code",
   "execution_count": 49,
   "id": "748481a7",
   "metadata": {},
   "outputs": [],
   "source": [
    "# Splitting documents\n",
    "splitter = RecursiveCharacterTextSplitter(chunk_size=500, chunk_overlap=100)\n",
    "splits = splitter.split_documents(docs)\n"
   ]
  },
  {
   "cell_type": "code",
   "execution_count": 50,
   "id": "314fa994",
   "metadata": {},
   "outputs": [
    {
     "data": {
      "text/plain": [
       "[Document(metadata={'source': 'https://excellencetechnologies.in/', 'title': 'Best Mobile And Web Application Development Company | Ecommerce Website Development Solutions | Excellence Technologies', 'description': 'Excellence Technologies is one of the Best E-Commerce websites and Mobile App development companies across the world focusing on iPhone & Android applications. We also offer Custom Website Design and Development services for web applications with Software Solutions across the globe.', 'language': 'en'}, page_content=\"Best Mobile And Web Application Development Company | Ecommerce Website Development Solutions | Excellence Technologies\\n\\n\\n\\n\\n\\n\\n\\n\\n\\n\\n\\n\\n\\n\\n\\n\\n\\n\\n\\n\\n\\n\\n\\n\\n\\n\\n\\n\\n\\n\\n\\n   \\n\\n\\n\\n\\n\\n\\n\\n\\n\\n\\nHome\\n\\n\\n\\n\\nAbout\\n\\n\\n\\n\\nServices\\n\\n\\n\\n\\nCareer\\n\\n\\n\\n\\nPortfolio\\n\\n\\n\\n\\nBlog\\n\\n\\n\\n\\nContact\\n\\n\\n\\n\\n\\n\\n\\n\\n\\n\\n\\n\\n\\n\\n\\n\\n\\n        Your browser does not support HTML5 video.\\n    \\n\\n\\n        PROVIDING MODERNISTIC SOFTWARE SOLUTIONS FOR YOUR BUSINESS NEEDS\\n    \\n\\n\\n\\n Work With Us \\n\\n\\n\\n\\n\\n\\n\\n\\n    WE'VE WORKED WITH\"),\n",
       " Document(metadata={'source': 'https://excellencetechnologies.in/', 'title': 'Best Mobile And Web Application Development Company | Ecommerce Website Development Solutions | Excellence Technologies', 'description': 'Excellence Technologies is one of the Best E-Commerce websites and Mobile App development companies across the world focusing on iPhone & Android applications. We also offer Custom Website Design and Development services for web applications with Software Solutions across the globe.', 'language': 'en'}, page_content=\"Work With Us \\n\\n\\n\\n\\n\\n\\n\\n\\n    WE'VE WORKED WITH\\n  \\n\\n\\n      As an interdisciplinary company, we’ve worked with:\\n    \\n\\n\\n\\nSMALL BUSINESS’S\\n\\n\\nBLOOMING STARTUPS \\n\\n\\nBIG CORPORATE ENTERPRISES\\n\\n\\n\\n\\nBy offering them cutting edge IT solutions to optimize their\\n            business processes and enhancing their online presence enabling them\\n            to increase their revenues whilst aligning with their business\\n            goals.\"),\n",
       " Document(metadata={'source': 'https://excellencetechnologies.in/', 'title': 'Best Mobile And Web Application Development Company | Ecommerce Website Development Solutions | Excellence Technologies', 'description': 'Excellence Technologies is one of the Best E-Commerce websites and Mobile App development companies across the world focusing on iPhone & Android applications. We also offer Custom Website Design and Development services for web applications with Software Solutions across the globe.', 'language': 'en'}, page_content='By providing quick turnaround using latest tech stack and helping\\n            startups market their ideas fast.\\n\\n\\n\\n            By creating robust solutions and strategies that are uniquely\\n            tailored to spur growth while helping them reach their full\\n            potential.\\n\\n\\n\\n\\n\\n\\n\\n\\n\\n\\nOUR CORE SERVICES'),\n",
       " Document(metadata={'source': 'https://excellencetechnologies.in/', 'title': 'Best Mobile And Web Application Development Company | Ecommerce Website Development Solutions | Excellence Technologies', 'description': 'Excellence Technologies is one of the Best E-Commerce websites and Mobile App development companies across the world focusing on iPhone & Android applications. We also offer Custom Website Design and Development services for web applications with Software Solutions across the globe.', 'language': 'en'}, page_content='OUR CORE SERVICES\\n\\n\\n            We’ve developed skills and know-how in different fields of expertise. Our team of trained professional\\n            developers and technologists work towards creating customized solutions\\n            as per your business needs.\\n        \\n\\n\\n\\n\\n\\n\\n\\n\\n\\n\\n\\n\\n\\n                            Web Application'),\n",
       " Document(metadata={'source': 'https://excellencetechnologies.in/', 'title': 'Best Mobile And Web Application Development Company | Ecommerce Website Development Solutions | Excellence Technologies', 'description': 'Excellence Technologies is one of the Best E-Commerce websites and Mobile App development companies across the world focusing on iPhone & Android applications. We also offer Custom Website Design and Development services for web applications with Software Solutions across the globe.', 'language': 'en'}, page_content='Web Application\\n                        \\n\\nWe develop modern web apps using the latest technologies like react.js, vue.js, angular and other solutions to provide blazing fast and a modern experience. Whether you are looking for PWA, SPA, or SSR apps we have done it all.\\n\\n\\n\\n\\n\\n\\n\\n\\n\\n\\n\\n\\n\\n                            Mobile Apps'),\n",
       " Document(metadata={'source': 'https://excellencetechnologies.in/', 'title': 'Best Mobile And Web Application Development Company | Ecommerce Website Development Solutions | Excellence Technologies', 'description': 'Excellence Technologies is one of the Best E-Commerce websites and Mobile App development companies across the world focusing on iPhone & Android applications. We also offer Custom Website Design and Development services for web applications with Software Solutions across the globe.', 'language': 'en'}, page_content='Mobile Apps\\n                        \\n\\nWe deliver modern app using cutting edge technologies like react native, expo, ionic, flutter.\\nWe strongly believe in the importance of delivering multi-platform mobile app solutions for android/ios/windows and still able to provide quick turn around and retain native app experience.\\n\\n\\n\\n\\n\\n\\n\\n\\n\\n\\n\\n\\n\\n                            eCommerce'),\n",
       " Document(metadata={'source': 'https://excellencetechnologies.in/', 'title': 'Best Mobile And Web Application Development Company | Ecommerce Website Development Solutions | Excellence Technologies', 'description': 'Excellence Technologies is one of the Best E-Commerce websites and Mobile App development companies across the world focusing on iPhone & Android applications. We also offer Custom Website Design and Development services for web applications with Software Solutions across the globe.', 'language': 'en'}, page_content='eCommerce\\n                        \\n\\nLooking to quickly run your business online on a budget or to set up a full-service eCommerce store for your customers. We work with industry-leading solutions like Magento, Shopify, WooCommerce to get your store up and running.\\n\\n\\n\\n\\n\\n\\n\\n\\n\\n\\n\\n\\n\\n                            Back-End & Database'),\n",
       " Document(metadata={'source': 'https://excellencetechnologies.in/', 'title': 'Best Mobile And Web Application Development Company | Ecommerce Website Development Solutions | Excellence Technologies', 'description': 'Excellence Technologies is one of the Best E-Commerce websites and Mobile App development companies across the world focusing on iPhone & Android applications. We also offer Custom Website Design and Development services for web applications with Software Solutions across the globe.', 'language': 'en'}, page_content='Back-End & Database\\n                        \\n\\nWe work on backend technologies like node.js, python, PHP to serve backend services for your web/mobile apps.\\nWe set up security, scalable database services using MongoDB, MySQL, PostgreSQL and many other DB solutions\\n\\n\\n\\n\\n\\n\\n\\n\\n\\n\\n\\n\\n\\n                            Cloud Infra and Dev Ops'),\n",
       " Document(metadata={'source': 'https://excellencetechnologies.in/', 'title': 'Best Mobile And Web Application Development Company | Ecommerce Website Development Solutions | Excellence Technologies', 'description': 'Excellence Technologies is one of the Best E-Commerce websites and Mobile App development companies across the world focusing on iPhone & Android applications. We also offer Custom Website Design and Development services for web applications with Software Solutions across the globe.', 'language': 'en'}, page_content='Cloud Infra and Dev Ops\\n                        \\n\\nWe deploy your apps on cloud infrastructure like AWS, GCP, Azure and work with scalable services like firebase, lambda, microservices and many other cloud services to provide a highly scalable, secure and future proof deployment for your apps \\n\\n\\n\\n\\n\\n\\n\\n\\n\\n\\n\\n\\n\\nREACT NATIVE\\n\\n\\n\\n\\n\\nIONIC\\n\\n\\n\\n\\n\\nFLUTTER\\n\\n\\n\\n\\n\\nEXPO\\n\\n\\n\\n\\n\\nREACT JS\\n\\n\\n\\n\\n\\nANGULAR\\n\\n\\n\\n\\n\\nVUE JS\\n\\n\\n\\n\\n\\nNODE JS\\n\\n\\n\\n\\n\\nWOOCOMMERCE\\n\\n\\n\\n\\n\\nSHOPIFY\\n\\n\\n\\n\\n\\nMAGENTO'),\n",
       " Document(metadata={'source': 'https://excellencetechnologies.in/', 'title': 'Best Mobile And Web Application Development Company | Ecommerce Website Development Solutions | Excellence Technologies', 'description': 'Excellence Technologies is one of the Best E-Commerce websites and Mobile App development companies across the world focusing on iPhone & Android applications. We also offer Custom Website Design and Development services for web applications with Software Solutions across the globe.', 'language': 'en'}, page_content='REACT JS\\n\\n\\n\\n\\n\\nANGULAR\\n\\n\\n\\n\\n\\nVUE JS\\n\\n\\n\\n\\n\\nNODE JS\\n\\n\\n\\n\\n\\nWOOCOMMERCE\\n\\n\\n\\n\\n\\nSHOPIFY\\n\\n\\n\\n\\n\\nMAGENTO\\n\\n\\n\\n\\n\\nPYTHON\\n\\n\\n\\n\\n\\nAWS\\n\\n\\n\\n\\n\\nGCP\\n\\n\\n\\n\\n\\nAZURE\\n\\n\\n\\n\\n\\nDOCKER\\n\\n\\n\\n OUR SERVICES ARE DRIVEN BY AMAZING TECHNOLOGIES \\nTechnologies we work\\n                 on regular basis'),\n",
       " Document(metadata={'source': 'https://excellencetechnologies.in/', 'title': 'Best Mobile And Web Application Development Company | Ecommerce Website Development Solutions | Excellence Technologies', 'description': 'Excellence Technologies is one of the Best E-Commerce websites and Mobile App development companies across the world focusing on iPhone & Android applications. We also offer Custom Website Design and Development services for web applications with Software Solutions across the globe.', 'language': 'en'}, page_content='We are not fanatical about a single solution. We pride ourselves on finding the best fit for our client’s needs. \\n                \\n                As tech world is changing very fast, we keep adding the latest tech to our stack\\n                \\n                Among the tools at our disposal are technologies such as React.JS, Vue.JS, Angular, React Native. Expo, Ionic, Flutter, Nodejs, MongoDB, Firebase'),\n",
       " Document(metadata={'source': 'https://excellencetechnologies.in/', 'title': 'Best Mobile And Web Application Development Company | Ecommerce Website Development Solutions | Excellence Technologies', 'description': 'Excellence Technologies is one of the Best E-Commerce websites and Mobile App development companies across the world focusing on iPhone & Android applications. We also offer Custom Website Design and Development services for web applications with Software Solutions across the globe.', 'language': 'en'}, page_content='We also work with CMS solutions like Magento, Shopify, WooCommerce, Wordpress, Strap.io, KeyStone.JS to provide readymade solutions \\n                \\n                While adapting new tech stack, we also retain the stable platforms like PHP, Python and work on frameworks like Django, Laravel to maintain/upgrade systems'),\n",
       " Document(metadata={'source': 'https://excellencetechnologies.in/', 'title': 'Best Mobile And Web Application Development Company | Ecommerce Website Development Solutions | Excellence Technologies', 'description': 'Excellence Technologies is one of the Best E-Commerce websites and Mobile App development companies across the world focusing on iPhone & Android applications. We also offer Custom Website Design and Development services for web applications with Software Solutions across the globe.', 'language': 'en'}, page_content='WHAT ARE THEY SAYING\\n\\n\\n        Making our client’s happiness isn’t just about building beautiful websites. It’s about building a relationship,\\n        \\n        earning trust and growing together'),\n",
       " Document(metadata={'source': 'https://excellencetechnologies.in/', 'title': 'Best Mobile And Web Application Development Company | Ecommerce Website Development Solutions | Excellence Technologies', 'description': 'Excellence Technologies is one of the Best E-Commerce websites and Mobile App development companies across the world focusing on iPhone & Android applications. We also offer Custom Website Design and Development services for web applications with Software Solutions across the globe.', 'language': 'en'}, page_content='Alexis Manach\\nhttps://www.zarpo.com.br\\nThe application built by Excellence Technologies has expanded the user base to 5 million and successfully provides all desired features. The team is knowledgable and make themselves available around the clock to solve issues as they arise so that development can continue.\\n\\n\\nMartin Romanuk\\nhttps://nubity.com\\nGreat React developers, they helped us to go forward with all of our requirements. Highly recommendable.'),\n",
       " Document(metadata={'source': 'https://excellencetechnologies.in/', 'title': 'Best Mobile And Web Application Development Company | Ecommerce Website Development Solutions | Excellence Technologies', 'description': 'Excellence Technologies is one of the Best E-Commerce websites and Mobile App development companies across the world focusing on iPhone & Android applications. We also offer Custom Website Design and Development services for web applications with Software Solutions across the globe.', 'language': 'en'}, page_content='Kristian Poulstrup\\nhttps://billetto.com\\nExcellence did an excellent job on my project. The tasks were completed on time and to specification. Communication was good and the developers were always positive. 10/10 would recommend it.\\n\\n\\n\\n\\n\\n\\n\\n\\n\\n\\n\\n\\n\\n\\n\\n\\n\\n\\n\\n\\n\\n\\n\\n\\n\\n\\n\\n\\nPlease, provide us with as much detailed information as possible\\n        \\n\\n\\n\\n\\n\\n\\n\\n\\n\\n\\n\\n\\n\\n\\n\\n\\n\\n\\n\\n\\n\\nSUBMIT\\n\\n\\n\\n\\n\\nTHINK WE’D BE A MATCH?\\nLET’S CONNECT\\nEmail\\n[email\\xa0protected]'),\n",
       " Document(metadata={'source': 'https://excellencetechnologies.in/', 'title': 'Best Mobile And Web Application Development Company | Ecommerce Website Development Solutions | Excellence Technologies', 'description': 'Excellence Technologies is one of the Best E-Commerce websites and Mobile App development companies across the world focusing on iPhone & Android applications. We also offer Custom Website Design and Development services for web applications with Software Solutions across the globe.', 'language': 'en'}, page_content='SUBMIT\\n\\n\\n\\n\\n\\nTHINK WE’D BE A MATCH?\\nLET’S CONNECT\\nEmail\\n[email\\xa0protected]\\n\\nAddress\\nC86 B,Sector 8,Noida (Uttar Pradesh)\\nPhone\\n+91 01204278603\\nSkype\\nsales@excellencetechnologies\\n\\n\\n\\n\\n\\n\\n\\n\\nALWAYS STAY IN THE LOOP\\n\\n\\n\\n\\n\\n\\n\\n\\n\\n\\n\\n\\n\\n\\n\\n© 2020 - Excellence Technologies Pvt. Ltd. All Rights Reserved\\n\\n\\n\\n\\nQUICK LINKS\\n\\n\\n\\n\\nHome\\n\\n\\n\\n\\nAbout\\n\\n\\n\\n\\nServices\\n\\n\\n\\n\\nCareer\\n\\n\\n\\n\\nPortfolio\\n\\n\\n\\n\\nContact\\n\\n\\n\\n\\n\\n\\nSERVICES\\n\\n\\n\\n\\nWeb Application Development\\n\\n\\n\\n\\nMobile Application Development\\n\\n\\n\\n\\neCommerce Store Setup'),\n",
       " Document(metadata={'source': 'https://excellencetechnologies.in/', 'title': 'Best Mobile And Web Application Development Company | Ecommerce Website Development Solutions | Excellence Technologies', 'description': 'Excellence Technologies is one of the Best E-Commerce websites and Mobile App development companies across the world focusing on iPhone & Android applications. We also offer Custom Website Design and Development services for web applications with Software Solutions across the globe.', 'language': 'en'}, page_content='Web Application Development\\n\\n\\n\\n\\nMobile Application Development\\n\\n\\n\\n\\neCommerce Store Setup\\n\\n\\n\\n\\nBackend and Database\\n\\n\\n\\n\\nCloud Deployments & Devops\\n\\n\\n\\n\\n\\n\\nTECHNOLOGIES\\n\\n\\n\\n\\n\\n\\nMagento\\n\\n\\n\\n\\nReactJS\\n\\n\\n\\n\\nReact Native\\n\\n\\n\\n\\nVueJS\\n\\n\\n\\n\\nAngularJS\\n\\n\\n\\n\\nAndroid App\\n\\n\\n\\n\\nMongoDB\\n\\n\\n\\n\\n\\n\\n\\n\\nExpress\\n\\n\\n\\n\\nAPI Development\\n\\n\\n\\n\\nShopify\\n\\n\\n\\n\\nLaravel\\n\\n\\n\\n\\nFlask\\n\\n\\n\\n\\nDjango\\n\\n\\n\\n\\nNodeJS')]"
      ]
     },
     "execution_count": 50,
     "metadata": {},
     "output_type": "execute_result"
    }
   ],
   "source": [
    "splits"
   ]
  },
  {
   "cell_type": "code",
   "execution_count": 51,
   "id": "68306ead",
   "metadata": {},
   "outputs": [
    {
     "data": {
      "text/plain": [
       "17"
      ]
     },
     "execution_count": 51,
     "metadata": {},
     "output_type": "execute_result"
    }
   ],
   "source": [
    "len(splits)"
   ]
  },
  {
   "cell_type": "code",
   "execution_count": 52,
   "id": "4eab89ca",
   "metadata": {},
   "outputs": [],
   "source": [
    "embedding = GoogleGenerativeAIEmbeddings(model=\"models/embedding-001\")\n",
    "vectorstore = Chroma.from_documents(documents=splits, embedding=embedding)\n",
    "llm = ChatGoogleGenerativeAI(model=\"gemini-2.0-flash\", temperature=0.9, max_output_tokens=100)"
   ]
  },
  {
   "cell_type": "code",
   "execution_count": 53,
   "id": "74a6a089",
   "metadata": {},
   "outputs": [
    {
     "data": {
      "text/plain": [
       "GoogleGenerativeAIEmbeddings(client=<google.ai.generativelanguage_v1beta.services.generative_service.client.GenerativeServiceClient object at 0x000001D37FBD12E0>, model='models/embedding-001', task_type=None, google_api_key=SecretStr('**********'), credentials=None, client_options=None, transport=None, request_options=None)"
      ]
     },
     "execution_count": 53,
     "metadata": {},
     "output_type": "execute_result"
    }
   ],
   "source": [
    "embedding"
   ]
  },
  {
   "cell_type": "code",
   "execution_count": 54,
   "id": "1fa9d18e",
   "metadata": {},
   "outputs": [
    {
     "data": {
      "text/plain": [
       "<langchain_community.vectorstores.chroma.Chroma at 0x1d372978dd0>"
      ]
     },
     "execution_count": 54,
     "metadata": {},
     "output_type": "execute_result"
    }
   ],
   "source": [
    "vectorstore"
   ]
  },
  {
   "cell_type": "code",
   "execution_count": 55,
   "id": "474e2ae7",
   "metadata": {},
   "outputs": [
    {
     "data": {
      "text/plain": [
       "ChatGoogleGenerativeAI(model='models/gemini-2.0-flash', google_api_key=SecretStr('**********'), temperature=0.9, max_output_tokens=100, client=<google.ai.generativelanguage_v1beta.services.generative_service.client.GenerativeServiceClient object at 0x000001D37FBD13D0>, default_metadata=(), model_kwargs={})"
      ]
     },
     "execution_count": 55,
     "metadata": {},
     "output_type": "execute_result"
    }
   ],
   "source": [
    "llm"
   ]
  },
  {
   "cell_type": "code",
   "execution_count": 56,
   "id": "ec28f9a7",
   "metadata": {},
   "outputs": [],
   "source": [
    "que_ans_chain = RetrievalQA.from_chain_type(\n",
    "    llm=llm,\n",
    "    retriever=vectorstore.as_retriever(),\n",
    "    return_source_documents=True,\n",
    "    verbose=True\n",
    ")"
   ]
  },
  {
   "cell_type": "code",
   "execution_count": 57,
   "id": "98bac38e",
   "metadata": {},
   "outputs": [
    {
     "name": "stdout",
     "output_type": "stream",
     "text": [
      "Ask anything about the website you have provided (type 'exit' to quit):\n",
      "\n",
      "\n",
      "\u001b[1m> Entering new RetrievalQA chain...\u001b[0m\n",
      "\n",
      "\u001b[1m> Finished chain.\u001b[0m\n",
      "\n",
      " Conversation:\n",
      "\n",
      "You 1: About the document\n",
      "AI 1: This document appears to be about Excellence Technologies, a company that provides \"modernistic software solutions\". They are a mobile and web application development company that also offers e-commerce website development solutions. The document includes sections for \"Home\", \"About\", \"Services\", \"Career\", \"Portfolio\", \"Blog\", and \"Contact\". It also contains a video and a section with client testimonials.\n",
      "\n",
      "\n",
      "\u001b[1m> Entering new RetrievalQA chain...\u001b[0m\n",
      "\n",
      "\u001b[1m> Finished chain.\u001b[0m\n",
      "\n",
      " Conversation:\n",
      "\n",
      "You 1: About the document\n",
      "AI 1: This document appears to be about Excellence Technologies, a company that provides \"modernistic software solutions\". They are a mobile and web application development company that also offers e-commerce website development solutions. The document includes sections for \"Home\", \"About\", \"Services\", \"Career\", \"Portfolio\", \"Blog\", and \"Contact\". It also contains a video and a section with client testimonials.\n",
      "\n",
      "You 2: what is excellence technologies\n",
      "AI 2: Excellence Technologies is a company that provides \"modernistic software solutions\" and offers services such as mobile and web application development and e-commerce website development. They work with small businesses, blooming startups, and big corporate enterprises. They provide IT solutions to optimize business processes, enhance online presence, and increase revenue, and they help startups market their ideas quickly.\n",
      "\n",
      "\n",
      "\u001b[1m> Entering new RetrievalQA chain...\u001b[0m\n",
      "\n",
      "\u001b[1m> Finished chain.\u001b[0m\n",
      "\n",
      " Conversation:\n",
      "\n",
      "You 1: About the document\n",
      "AI 1: This document appears to be about Excellence Technologies, a company that provides \"modernistic software solutions\". They are a mobile and web application development company that also offers e-commerce website development solutions. The document includes sections for \"Home\", \"About\", \"Services\", \"Career\", \"Portfolio\", \"Blog\", and \"Contact\". It also contains a video and a section with client testimonials.\n",
      "\n",
      "You 2: what is excellence technologies\n",
      "AI 2: Excellence Technologies is a company that provides \"modernistic software solutions\" and offers services such as mobile and web application development and e-commerce website development. They work with small businesses, blooming startups, and big corporate enterprises. They provide IT solutions to optimize business processes, enhance online presence, and increase revenue, and they help startups market their ideas quickly.\n",
      "\n",
      "You 3: where is this company is\n",
      "AI 3: I am sorry, but based on the context you provided, I cannot tell you where this company is located.\n",
      "\n",
      "\n",
      "\u001b[1m> Entering new RetrievalQA chain...\u001b[0m\n",
      "\n",
      "\u001b[1m> Finished chain.\u001b[0m\n",
      "\n",
      " Conversation:\n",
      "\n",
      "You 1: About the document\n",
      "AI 1: This document appears to be about Excellence Technologies, a company that provides \"modernistic software solutions\". They are a mobile and web application development company that also offers e-commerce website development solutions. The document includes sections for \"Home\", \"About\", \"Services\", \"Career\", \"Portfolio\", \"Blog\", and \"Contact\". It also contains a video and a section with client testimonials.\n",
      "\n",
      "You 2: what is excellence technologies\n",
      "AI 2: Excellence Technologies is a company that provides \"modernistic software solutions\" and offers services such as mobile and web application development and e-commerce website development. They work with small businesses, blooming startups, and big corporate enterprises. They provide IT solutions to optimize business processes, enhance online presence, and increase revenue, and they help startups market their ideas quickly.\n",
      "\n",
      "You 3: where is this company is\n",
      "AI 3: I am sorry, but based on the context you provided, I cannot tell you where this company is located.\n",
      "\n",
      "You 4: Contact of excellence technologies\n",
      "AI 4: I'm sorry, I cannot provide the contact information for Excellence Technologies based on the context provided.\n",
      "\n",
      "\n",
      "\u001b[1m> Entering new RetrievalQA chain...\u001b[0m\n",
      "\n",
      "\u001b[1m> Finished chain.\u001b[0m\n",
      "\n",
      " Conversation:\n",
      "\n",
      "You 1: About the document\n",
      "AI 1: This document appears to be about Excellence Technologies, a company that provides \"modernistic software solutions\". They are a mobile and web application development company that also offers e-commerce website development solutions. The document includes sections for \"Home\", \"About\", \"Services\", \"Career\", \"Portfolio\", \"Blog\", and \"Contact\". It also contains a video and a section with client testimonials.\n",
      "\n",
      "You 2: what is excellence technologies\n",
      "AI 2: Excellence Technologies is a company that provides \"modernistic software solutions\" and offers services such as mobile and web application development and e-commerce website development. They work with small businesses, blooming startups, and big corporate enterprises. They provide IT solutions to optimize business processes, enhance online presence, and increase revenue, and they help startups market their ideas quickly.\n",
      "\n",
      "You 3: where is this company is\n",
      "AI 3: I am sorry, but based on the context you provided, I cannot tell you where this company is located.\n",
      "\n",
      "You 4: Contact of excellence technologies\n",
      "AI 4: I'm sorry, I cannot provide the contact information for Excellence Technologies based on the context provided.\n",
      "\n",
      "You 5: Any revies from clients\n",
      "AI 5: I'm sorry, but there are no client reviews in the provided text. However, the text does mention that \"Making our client’s happiness isn’t just about building beautiful websites. It’s about building a relationship, earning trust and growing together\".\n",
      "\n",
      "\n",
      "\u001b[1m> Entering new RetrievalQA chain...\u001b[0m\n",
      "\n",
      "\u001b[1m> Finished chain.\u001b[0m\n",
      "\n",
      " Conversation:\n",
      "\n",
      "You 1: About the document\n",
      "AI 1: This document appears to be about Excellence Technologies, a company that provides \"modernistic software solutions\". They are a mobile and web application development company that also offers e-commerce website development solutions. The document includes sections for \"Home\", \"About\", \"Services\", \"Career\", \"Portfolio\", \"Blog\", and \"Contact\". It also contains a video and a section with client testimonials.\n",
      "\n",
      "You 2: what is excellence technologies\n",
      "AI 2: Excellence Technologies is a company that provides \"modernistic software solutions\" and offers services such as mobile and web application development and e-commerce website development. They work with small businesses, blooming startups, and big corporate enterprises. They provide IT solutions to optimize business processes, enhance online presence, and increase revenue, and they help startups market their ideas quickly.\n",
      "\n",
      "You 3: where is this company is\n",
      "AI 3: I am sorry, but based on the context you provided, I cannot tell you where this company is located.\n",
      "\n",
      "You 4: Contact of excellence technologies\n",
      "AI 4: I'm sorry, I cannot provide the contact information for Excellence Technologies based on the context provided.\n",
      "\n",
      "You 5: Any revies from clients\n",
      "AI 5: I'm sorry, but there are no client reviews in the provided text. However, the text does mention that \"Making our client’s happiness isn’t just about building beautiful websites. It’s about building a relationship, earning trust and growing together\".\n",
      "\n",
      "You 6: services of excellence technologies\n",
      "AI 6: Excellence Technologies offers the following services:\n",
      "\n",
      "*   Web Application Development\n",
      "*   Mobile Application Development\n",
      "*   eCommerce Store Setup\n",
      "*   Backend and Database\n",
      "*   Cloud Deployments & Devops\n",
      "\n",
      "\n",
      "\u001b[1m> Entering new RetrievalQA chain...\u001b[0m\n",
      "\n",
      "\u001b[1m> Finished chain.\u001b[0m\n",
      "\n",
      " Conversation:\n",
      "\n",
      "You 1: About the document\n",
      "AI 1: This document appears to be about Excellence Technologies, a company that provides \"modernistic software solutions\". They are a mobile and web application development company that also offers e-commerce website development solutions. The document includes sections for \"Home\", \"About\", \"Services\", \"Career\", \"Portfolio\", \"Blog\", and \"Contact\". It also contains a video and a section with client testimonials.\n",
      "\n",
      "You 2: what is excellence technologies\n",
      "AI 2: Excellence Technologies is a company that provides \"modernistic software solutions\" and offers services such as mobile and web application development and e-commerce website development. They work with small businesses, blooming startups, and big corporate enterprises. They provide IT solutions to optimize business processes, enhance online presence, and increase revenue, and they help startups market their ideas quickly.\n",
      "\n",
      "You 3: where is this company is\n",
      "AI 3: I am sorry, but based on the context you provided, I cannot tell you where this company is located.\n",
      "\n",
      "You 4: Contact of excellence technologies\n",
      "AI 4: I'm sorry, I cannot provide the contact information for Excellence Technologies based on the context provided.\n",
      "\n",
      "You 5: Any revies from clients\n",
      "AI 5: I'm sorry, but there are no client reviews in the provided text. However, the text does mention that \"Making our client’s happiness isn’t just about building beautiful websites. It’s about building a relationship, earning trust and growing together\".\n",
      "\n",
      "You 6: services of excellence technologies\n",
      "AI 6: Excellence Technologies offers the following services:\n",
      "\n",
      "*   Web Application Development\n",
      "*   Mobile Application Development\n",
      "*   eCommerce Store Setup\n",
      "*   Backend and Database\n",
      "*   Cloud Deployments & Devops\n",
      "\n",
      "You 7: tell me about what are they saying\n",
      "AI 7: They are saying that making their client's happiness isn't just about building beautiful websites, but about building a relationship, earning trust, and growing together. They also provide quick turnaround using the latest tech stack and help startups market their ideas fast, as well as create robust solutions and strategies that are uniquely tailored to spur growth while helping them reach their full potential.\n"
     ]
    }
   ],
   "source": [
    "chat_history = []\n",
    "print(\"Ask anything about the website you have provided (type 'exit' to quit):\")\n",
    "\n",
    "while True:\n",
    "    user_input = input(\"\\nYou: \").strip()\n",
    "    if user_input.lower() in [\"exit\", \"quit\"]:\n",
    "        break\n",
    "\n",
    "    relevant_docs = vectorstore.similarity_search(user_input, k=5)\n",
    "\n",
    "    if not relevant_docs:\n",
    "        print(\"AI: Sorry, I couldn't find anything related to that in the website content.\")\n",
    "        continue\n",
    "\n",
    "    try:\n",
    "        result = que_ans_chain.invoke({\"query\": user_input})\n",
    "        ai_response = result['result']\n",
    "        chat_history.append((user_input, ai_response))\n",
    "\n",
    "        # Print chat history\n",
    "        print(\"\\n Conversation:\")\n",
    "        for idx, (q, a) in enumerate(chat_history, 1):\n",
    "            print(f\"\\nYou {idx}: {q}\")\n",
    "            print(f\"AI {idx}: {a}\")\n",
    "\n",
    "    except Exception as e:\n",
    "        print(\"Error:\", e)"
   ]
  }
 ],
 "metadata": {
  "kernelspec": {
   "display_name": "venv",
   "language": "python",
   "name": "python3"
  },
  "language_info": {
   "codemirror_mode": {
    "name": "ipython",
    "version": 3
   },
   "file_extension": ".py",
   "mimetype": "text/x-python",
   "name": "python",
   "nbconvert_exporter": "python",
   "pygments_lexer": "ipython3",
   "version": "3.12.0"
  }
 },
 "nbformat": 4,
 "nbformat_minor": 5
}
